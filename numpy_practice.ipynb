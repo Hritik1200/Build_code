{
 "cells": [
  {
   "cell_type": "code",
   "execution_count": null,
   "id": "519bc71b",
   "metadata": {},
   "outputs": [],
   "source": [
    "# install numpy\n",
    "\n",
    "\n",
    "%pip install numpy"
   ]
  },
  {
   "cell_type": "code",
   "execution_count": null,
   "id": "2ff16e76",
   "metadata": {},
   "outputs": [],
   "source": [
    "import numpy as np\n",
    "print(np.__version__)"
   ]
  },
  {
   "cell_type": "code",
   "execution_count": null,
   "id": "f056e1c9",
   "metadata": {},
   "outputs": [],
   "source": [
    "# create array\n",
    "\n",
    "my_list = [12,13,14,151,16]\n",
    "data = np.array(my_list)\n",
    "print(data)\n",
    "\n",
    "# check type\n",
    "print(type(data))\n",
    "\n",
    "print(data.ndim)"
   ]
  },
  {
   "cell_type": "code",
   "execution_count": null,
   "id": "4a6b05c0",
   "metadata": {},
   "outputs": [],
   "source": [
    "# 3x3 = 9\n",
    "arr2 = np.array([[21,22,23],[24,25,26],[27,28,29]])\n",
    "\n",
    "print(arr2)\n",
    "print(arr2.ndim)\n",
    "print(arr2[1,2])"
   ]
  },
  {
   "cell_type": "code",
   "execution_count": null,
   "id": "e4dbe2c2",
   "metadata": {},
   "outputs": [],
   "source": [
    "arr3 =np.array ([[\n",
    "    [21,22,23],[24,25,26],[27,28,29],\n",
    "    [21,22,23],[24,25,26],[27,28,29],\n",
    "    [21,22,23],[24,25,26],[27,28,29]]\n",
    "    ])\n",
    "\n",
    "print(arr3)\n",
    "print(arr3.ndim)"
   ]
  },
  {
   "cell_type": "code",
   "execution_count": 2,
   "id": "1c257229",
   "metadata": {},
   "outputs": [
    {
     "name": "stdout",
     "output_type": "stream",
     "text": [
      "Collecting pandas\n",
      "  Downloading pandas-2.3.1-cp312-cp312-win_amd64.whl.metadata (19 kB)\n",
      "Requirement already satisfied: numpy>=1.26.0 in c:\\users\\admin\\appdata\\local\\programs\\python\\python312\\lib\\site-packages (from pandas) (2.3.1)\n",
      "Requirement already satisfied: python-dateutil>=2.8.2 in c:\\users\\admin\\appdata\\roaming\\python\\python312\\site-packages (from pandas) (2.9.0.post0)\n",
      "Collecting pytz>=2020.1 (from pandas)\n",
      "  Downloading pytz-2025.2-py2.py3-none-any.whl.metadata (22 kB)\n",
      "Requirement already satisfied: tzdata>=2022.7 in c:\\users\\admin\\appdata\\local\\programs\\python\\python312\\lib\\site-packages (from pandas) (2024.1)\n",
      "Requirement already satisfied: six>=1.5 in c:\\users\\admin\\appdata\\roaming\\python\\python312\\site-packages (from python-dateutil>=2.8.2->pandas) (1.17.0)\n",
      "Downloading pandas-2.3.1-cp312-cp312-win_amd64.whl (11.0 MB)\n",
      "   ---------------------------------------- 0.0/11.0 MB ? eta -:--:--\n",
      "    --------------------------------------- 0.2/11.0 MB 3.5 MB/s eta 0:00:04\n",
      "   -- ------------------------------------- 0.6/11.0 MB 7.2 MB/s eta 0:00:02\n",
      "   --- ------------------------------------ 1.0/11.0 MB 8.3 MB/s eta 0:00:02\n",
      "   ----- ---------------------------------- 1.6/11.0 MB 8.4 MB/s eta 0:00:02\n",
      "   ------- -------------------------------- 2.1/11.0 MB 9.7 MB/s eta 0:00:01\n",
      "   --------- ------------------------------ 2.5/11.0 MB 9.4 MB/s eta 0:00:01\n",
      "   ---------- ----------------------------- 3.0/11.0 MB 10.1 MB/s eta 0:00:01\n",
      "   ------------- -------------------------- 3.7/11.0 MB 10.2 MB/s eta 0:00:01\n",
      "   --------------- ------------------------ 4.2/11.0 MB 10.3 MB/s eta 0:00:01\n",
      "   ----------------- ---------------------- 4.7/11.0 MB 10.4 MB/s eta 0:00:01\n",
      "   ------------------- -------------------- 5.3/11.0 MB 10.5 MB/s eta 0:00:01\n",
      "   --------------------- ------------------ 5.8/11.0 MB 10.6 MB/s eta 0:00:01\n",
      "   ----------------------- ---------------- 6.4/11.0 MB 10.4 MB/s eta 0:00:01\n",
      "   ------------------------- -------------- 6.9/11.0 MB 10.5 MB/s eta 0:00:01\n",
      "   --------------------------- ------------ 7.5/11.0 MB 10.6 MB/s eta 0:00:01\n",
      "   ----------------------------- ---------- 8.0/11.0 MB 10.7 MB/s eta 0:00:01\n",
      "   ------------------------------- -------- 8.6/11.0 MB 10.8 MB/s eta 0:00:01\n",
      "   --------------------------------- ------ 9.1/11.0 MB 10.8 MB/s eta 0:00:01\n",
      "   ----------------------------------- ---- 9.7/11.0 MB 10.9 MB/s eta 0:00:01\n",
      "   ------------------------------------- -- 10.3/11.0 MB 11.1 MB/s eta 0:00:01\n",
      "   ---------------------------------------  10.8/11.0 MB 11.5 MB/s eta 0:00:01\n",
      "   ---------------------------------------  11.0/11.0 MB 11.5 MB/s eta 0:00:01\n",
      "   ---------------------------------------  11.0/11.0 MB 11.5 MB/s eta 0:00:01\n",
      "   ---------------------------------------- 11.0/11.0 MB 10.4 MB/s eta 0:00:00\n",
      "Downloading pytz-2025.2-py2.py3-none-any.whl (509 kB)\n",
      "   ---------------------------------------- 0.0/509.2 kB ? eta -:--:--\n",
      "   --------------------------------------  501.8/509.2 kB 10.5 MB/s eta 0:00:01\n",
      "   ---------------------------------------- 509.2/509.2 kB 6.4 MB/s eta 0:00:00\n",
      "Installing collected packages: pytz, pandas\n",
      "Successfully installed pandas-2.3.1 pytz-2025.2\n",
      "Note: you may need to restart the kernel to use updated packages.\n"
     ]
    },
    {
     "name": "stderr",
     "output_type": "stream",
     "text": [
      "\n",
      "[notice] A new release of pip is available: 24.0 -> 25.1.1\n",
      "[notice] To update, run: python.exe -m pip install --upgrade pip\n"
     ]
    }
   ],
   "source": [
    "pip install pandas"
   ]
  },
  {
   "cell_type": "code",
   "execution_count": 3,
   "id": "4f21011c",
   "metadata": {},
   "outputs": [],
   "source": [
    "import pandas as pd\n",
    "import numpy as np"
   ]
  },
  {
   "cell_type": "code",
   "execution_count": 4,
   "id": "ca37fc69",
   "metadata": {},
   "outputs": [],
   "source": [
    "# step no 1 create a sales data\n",
    "data = {\n",
    "    \"order_id\":[1,2,3,4,5,6,7,8],\n",
    "    \"customer\":['john','joy','rahul','rohan','hritik','avinah','vijay','vinod'],\n",
    "    \"product\":['laptop','phone','mouse','tablet','phone','tablet','laptop','mouse'],\n",
    "    \"quantity\":[4,5,2,1,2,1,1,3],\n",
    "    \"price\":[1000,5000,4000,7500,8450,9546,7822,6500],\n",
    "    \"date\":[\"2023-01-05\",\"2023-01-31\",\"2023-01-18\",\"2023-01-15\",\"2023-01-28\",\"2023-01-26\",\"2023-01-21\",\"2023-01-10\"]\n",
    "}"
   ]
  },
  {
   "cell_type": "code",
   "execution_count": null,
   "id": "8e3964a2",
   "metadata": {},
   "outputs": [],
   "source": [
    "# step no 2 create data frame\n",
    "\n",
    "df = pd.DataFrame(data)"
   ]
  },
  {
   "cell_type": "code",
   "execution_count": 7,
   "id": "a077aa63",
   "metadata": {},
   "outputs": [
    {
     "name": "stdout",
     "output_type": "stream",
     "text": [
      "   order_id customer product  quantity  price        date\n",
      "0         1     john  laptop         4   1000  2023-01-05\n",
      "1         2      joy   phone         5   5000  2023-01-31\n",
      "2         3    rahul   mouse         2   4000  2023-01-18\n",
      "3         4    rohan  tablet         1   7500  2023-01-15\n",
      "4         5   hritik   phone         2   8450  2023-01-28\n"
     ]
    }
   ],
   "source": [
    "# step no 3 print first 5 row\n",
    "\n",
    "print(df.head())"
   ]
  },
  {
   "cell_type": "code",
   "execution_count": 9,
   "id": "ff30c929",
   "metadata": {},
   "outputs": [
    {
     "name": "stdout",
     "output_type": "stream",
     "text": [
      "       order_id  quantity        price\n",
      "count   8.00000  8.000000     8.000000\n",
      "mean    4.50000  2.375000  6227.250000\n",
      "std     2.44949  1.505941  2777.027175\n",
      "min     1.00000  1.000000  1000.000000\n",
      "25%     2.75000  1.000000  4750.000000\n",
      "50%     4.50000  2.000000  7000.000000\n",
      "75%     6.25000  3.250000  7979.000000\n",
      "max     8.00000  5.000000  9546.000000\n"
     ]
    }
   ],
   "source": [
    "print(df.describe())"
   ]
  },
  {
   "cell_type": "code",
   "execution_count": 10,
   "id": "cde8681a",
   "metadata": {},
   "outputs": [
    {
     "name": "stdout",
     "output_type": "stream",
     "text": [
      "order_id     int64\n",
      "customer    object\n",
      "product     object\n",
      "quantity     int64\n",
      "price        int64\n",
      "date        object\n",
      "dtype: object\n"
     ]
    }
   ],
   "source": [
    "print(df.dtypes)"
   ]
  },
  {
   "cell_type": "code",
   "execution_count": null,
   "id": "35a41eb4",
   "metadata": {},
   "outputs": [
    {
     "name": "stdout",
     "output_type": "stream",
     "text": [
      "0    2023-01-05\n",
      "1    2023-01-31\n",
      "2    2023-01-18\n",
      "3    2023-01-15\n",
      "4    2023-01-28\n",
      "5    2023-01-26\n",
      "6    2023-01-21\n",
      "7    2023-01-10\n",
      "Name: date, dtype: object\n"
     ]
    }
   ],
   "source": [
    "# printing date column\n",
    "print(df[\"date\"])"
   ]
  },
  {
   "cell_type": "code",
   "execution_count": null,
   "id": "e78a122c",
   "metadata": {},
   "outputs": [],
   "source": [
    "# changing data type of date column\n",
    "df[\"date\"] = pd.to_datetime(df[\"date\"])"
   ]
  },
  {
   "cell_type": "code",
   "execution_count": null,
   "id": "8ca5c27e",
   "metadata": {},
   "outputs": [
    {
     "name": "stdout",
     "output_type": "stream",
     "text": [
      "order_id             int64\n",
      "customer            object\n",
      "product             object\n",
      "quantity             int64\n",
      "price                int64\n",
      "date        datetime64[ns]\n",
      "dtype: object\n"
     ]
    }
   ],
   "source": [
    "# checking data type\n",
    "print(df.dtypes)"
   ]
  }
 ],
 "metadata": {
  "kernelspec": {
   "display_name": "Python 3",
   "language": "python",
   "name": "python3"
  },
  "language_info": {
   "codemirror_mode": {
    "name": "ipython",
    "version": 3
   },
   "file_extension": ".py",
   "mimetype": "text/x-python",
   "name": "python",
   "nbconvert_exporter": "python",
   "pygments_lexer": "ipython3",
   "version": "3.12.3"
  }
 },
 "nbformat": 4,
 "nbformat_minor": 5
}
