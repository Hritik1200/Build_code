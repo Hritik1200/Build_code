{
 "cells": [
  {
   "cell_type": "code",
   "execution_count": null,
   "id": "3e3a6a0b",
   "metadata": {},
   "outputs": [],
   "source": [
    "n = 5\n",
    "sum = 0\n",
    "for i in range(n):\n",
    "    sum = i*n\n",
    "    a = sum * i\n",
    "    print(a)"
   ]
  },
  {
   "cell_type": "code",
   "execution_count": null,
   "id": "0a23e61a",
   "metadata": {},
   "outputs": [],
   "source": [
    "data = [1,2,3,4,5,6,7,8,9,10,12,14,16,21,20,19]\n",
    "even = list(filter(lambda x:x % 2 == 0,data))\n",
    "\n",
    "print(even)\n",
    "\n"
   ]
  },
  {
   "cell_type": "code",
   "execution_count": null,
   "id": "5586639b",
   "metadata": {},
   "outputs": [],
   "source": [
    "n = [1,2,3,4,5]\n",
    "\n",
    "for i in n:\n",
    "    a = i*i\n",
    "    print(a,end = \" \")\n",
    "\n",
    "    \n",
    "for i in n:\n",
    "    a = i**3\n",
    "    print(a,end = \" \")\n"
   ]
  },
  {
   "cell_type": "code",
   "execution_count": null,
   "id": "a0fdbbc0",
   "metadata": {},
   "outputs": [],
   "source": [
    "greet = \"hello world\"\n",
    "greet.upper()"
   ]
  },
  {
   "cell_type": "code",
   "execution_count": null,
   "id": "3f6a59dc",
   "metadata": {},
   "outputs": [],
   "source": [
    "greet = [\"hello\", \"world\"]\n",
    "\n",
    "for i in greet:\n",
    "    a= i.upper()\n",
    "    print(a,end = \" \")"
   ]
  },
  {
   "cell_type": "code",
   "execution_count": null,
   "id": "ef6b5fe2",
   "metadata": {},
   "outputs": [],
   "source": [
    "data = \"welcome to 'python'\"\n",
    "print(data[13])"
   ]
  },
  {
   "cell_type": "code",
   "execution_count": null,
   "id": "8f5b52d4",
   "metadata": {},
   "outputs": [],
   "source": [
    "a = \"Hritik\"\n",
    "\n",
    "for i in str(a):\n",
    "    print(i.upper())\n"
   ]
  },
  {
   "cell_type": "code",
   "execution_count": null,
   "id": "c46e2700",
   "metadata": {},
   "outputs": [],
   "source": [
    "\n",
    "for i in str(a):\n",
    "    print(i.lower())"
   ]
  },
  {
   "cell_type": "code",
   "execution_count": null,
   "id": "dff76f4b",
   "metadata": {},
   "outputs": [],
   "source": [
    "data = str(input(\"enter char\"))\n",
    "find = str(input(\"enter char\"))\n",
    "\n",
    "if find in data:\n",
    "    print(f\"{find} available\")\n",
    "else:\n",
    "    print(f\"{find} not available\")"
   ]
  },
  {
   "cell_type": "code",
   "execution_count": null,
   "id": "d54ddc75",
   "metadata": {},
   "outputs": [],
   "source": [
    "def bill_mrp (price,tax,quantity):\n",
    "    pw_qua = price*quantity\n",
    "    gst_amount = pw_qua*tax/100\n",
    "    total_amount = (pw_qua + gst_amount)\n",
    "    return  total_amount\n",
    "\n",
    "print(bill_mrp(2000,8,20))\n",
    "\n",
    "# total = bill_mrp(2000,8,20)\n",
    "# print(total)\n"
   ]
  },
  {
   "cell_type": "code",
   "execution_count": null,
   "id": "ffb94b27",
   "metadata": {},
   "outputs": [],
   "source": [
    "class customers:\n",
    "    def __init__(self):\n",
    "        print(\"Borivali\")\n",
    "    def info(self,name,age):\n",
    "        print(f\"Name :{name}\")\n",
    "        print(f\"Age :{age}\")\n",
    "\n",
    "\n",
    "customer_obj = customers()\n",
    "customer_obj.info(\"hritik\",23)\n"
   ]
  },
  {
   "cell_type": "code",
   "execution_count": null,
   "id": "c56a2bfc",
   "metadata": {},
   "outputs": [],
   "source": [
    "class Bank:\n",
    "    def Amount(self, amt):\n",
    "        self.amt = amt \n",
    "        print(\"Amount:\", amt)\n",
    "\n",
    "    def credit_amt(self, cre_amt):\n",
    "        self.cre_amt1 = cre_amt\n",
    "        print(\"Amount Credited:\", cre_amt)\n",
    "\n",
    "    def withdrawal(self, withd):\n",
    "        self.withd = withd\n",
    "        print(\"Withdrawal Amount:\", withd)\n",
    "\n",
    "    def aft_wid(self):\n",
    "        total = (self.amt + self.cre_amt1) - self.withd\n",
    "        print(\"Balance After Withdrawal:\", total)\n",
    "\n",
    "\n",
    "a = Bank()\n",
    "a.Amount(5000)\n",
    "a.credit_amt(2000)\n",
    "a.withdrawal(500)\n",
    "a.aft_wid()\n",
    "\n",
    "        "
   ]
  },
  {
   "cell_type": "code",
   "execution_count": null,
   "id": "29a8099e",
   "metadata": {},
   "outputs": [],
   "source": [
    "class Bank:\n",
    "    def __init__(self,amount,credit,withdrawal):\n",
    "        self.amount = amount\n",
    "        self.credit = credit\n",
    "        self.withdrawal = withdrawal\n",
    "    def Amount1(self):\n",
    "        print(\"Amount:\", self.amount)\n",
    "\n",
    "    def credit_amt1(self):\n",
    "        print(\"Amount Credited:\", self.credit)\n",
    "\n",
    "    def withdrawal1(self):\n",
    "        print(\"Withdrawal Amount:\", self.withdrawal)\n",
    "\n",
    "    def aft_wid(self):\n",
    "        total = (self.amount + self.credit) - self.withdrawal\n",
    "        print(\"Balance After Withdrawal:\", total)\n",
    "\n",
    "\n",
    "a = Bank(5000,2000,500)\n",
    "a.Amount1()\n",
    "a.credit_amt1()\n",
    "a.withdrawal1()\n",
    "a.aft_wid()\n"
   ]
  },
  {
   "cell_type": "code",
   "execution_count": null,
   "id": "f99ce8d3",
   "metadata": {},
   "outputs": [],
   "source": [
    "amount = 2000\n",
    "wid = 500\n",
    "for i in amount:\n",
    "    for a in wid:\n",
    "        afte_wid = amount - wid\n",
    "        afte_wid -= wid\n",
    "        print(afte_wid)"
   ]
  },
  {
   "cell_type": "code",
   "execution_count": null,
   "id": "0265a8d4",
   "metadata": {},
   "outputs": [],
   "source": [
    "class customer:\n",
    "    def info(n):\n",
    "        print(\"Customer Name: \",n)\n",
    "class Bank(customer):\n",
    "    def bank_AC(acc):\n",
    "        print(\"Account No:\",acc)\n",
    "\n",
    "class Creditc1(Bank):\n",
    "    def card1(limit1):\n",
    "        global Limit1\n",
    "        Limit1 = limit1\n",
    "        print(\"Credit card of HDFC\",limit1)\n",
    "\n",
    "class Creditc2(Creditc1):\n",
    "    def card2(limit2):\n",
    "        global Limit2\n",
    "        Limit2 = limit2\n",
    "        print(\"Credit card of SBI\",limit2)\n",
    "\n",
    "class Credit_limit(Creditc2):\n",
    "    def All_info():\n",
    "        print(\"Total Limit =\",Limit1 +Limit2)\n",
    "\n",
    "a = Credit_limit\n",
    "a.info(input(\"Enter name\"))\n",
    "a.bank_AC(input(\"Enter Acc No\"))\n",
    "a.card1(int(input(\"enter limit1\")))\n",
    "a.card2(int(input(\"enter limit2\")))\n",
    "a.All_info()\n"
   ]
  },
  {
   "cell_type": "code",
   "execution_count": null,
   "id": "e68a4829",
   "metadata": {},
   "outputs": [],
   "source": [
    "class customer:\n",
    "    def info(id,n):\n",
    "        print(\"Customer ID :\",id,\"Customer Name: \",n)\n",
    "\n",
    "class Bank(customer):\n",
    "    def bank_AC(card_type,card_number):\n",
    "        print(\"Card Type:\",card_type,\"Card Number:\",card_number)\n",
    "\n",
    "class Creditc1(Bank):\n",
    "    def card1(tran1,limit1):\n",
    "        global Limit1\n",
    "        Limit1 = limit1\n",
    "        print(\"Transaction ID:\",tran1,\" Amount:\",limit1)\n",
    "    def card2(tran2,limit2):\n",
    "        global Limit2\n",
    "        Limit2 = limit2\n",
    "        print(\"Transaction ID:\",tran2,\"Amount:\",limit2)\n",
    "\n",
    "class Bank1(Creditc1):\n",
    "    def bank_AC1(card_type1,card_number1):\n",
    "        print(\"Card Type:\",card_type1,\"Card Number:\",card_number1)\n",
    "    def card3(tran3,limit3):\n",
    "        global Limit3\n",
    "        Limit3 = limit3\n",
    "        print(\"Transaction ID:\",tran3,\"Amount:\",limit3)\n",
    "\n",
    "class Credit_limit(Bank1):\n",
    "    def All_info():\n",
    "        print(\"Total Transaction Amount:\",Limit1+Limit2+Limit3)\n",
    "\n",
    "a = Credit_limit\n",
    "a.info(input(\"Customer id\"),input(\"Enter name\"))\n",
    "a.bank_AC(input(\"Enter card type\"),input(\"Enter card No\"))\n",
    "a.card1(input(\"Enter Transaction ID1:\"),int(input(\"enter limit1\")))\n",
    "a.card2(input(\"Enter Transaction ID2:\"),int(input(\"enter limit2\")))\n",
    "a.bank_AC1(input(\"Enter card type\"),input(\"Enter card No\"))\n",
    "a.card3(input(\"Enter Transaction ID3:\"),int(input(\"enter limit3\")))\n",
    "a.All_info()\n"
   ]
  },
  {
   "cell_type": "code",
   "execution_count": null,
   "id": "bfa479fe",
   "metadata": {},
   "outputs": [],
   "source": [
    "class customer:\n",
    "    def info(id,n):\n",
    "        print(\"Customer ID :\",id,\"Customer Name: \",n)\n",
    "\n",
    "class Bank(customer):\n",
    "    def bank_AC(card_type,card_number):\n",
    "        print(\"Card Type:\",card_type,\"Card Number:\",card_number)\n",
    "\n",
    "class Creditc1(Bank):\n",
    "    def card1(tran,limit):\n",
    "        global Limit1\n",
    "        Limit1 = limit\n",
    "        print(\"Transaction ID:\",tran,\" Amount:\",limit)\n",
    "    def card2(tran,limit):\n",
    "        global Limit2\n",
    "        Limit2 = limit\n",
    "        print(\"Transaction ID:\",tran,\"Amount:\",limit)\n",
    "\n",
    "class Bank1(Creditc1):\n",
    "    def bank_AC1(card_type1,card_number1):\n",
    "        print(\"Card Type:\",card_type1,\"Card Number:\",card_number1)\n",
    "    def card3(tran,limit):\n",
    "        global Limit3\n",
    "        Limit3 = limit\n",
    "        print(\"Transaction ID:\",tran,\"Amount:\",limit)\n",
    "\n",
    "class Credit_limit(Bank1):\n",
    "    def All_info():\n",
    "        print(\"Total Transaction Amount:\",Limit1+Limit2+Limit3)\n",
    "\n",
    "a = Credit_limit\n",
    "a.info(input(\"Customer id\"),input(\"Enter name\"))\n",
    "a.bank_AC(input(\"Enter card type\"),input(\"Enter card No\"))\n",
    "a.card1(input(\"Enter Transaction ID1:\"),int(input(\"enter limit1\")))\n",
    "a.card2(input(\"Enter Transaction ID2:\"),int(input(\"enter limit2\")))\n",
    "a.bank_AC1(input(\"Enter card type2\"),input(\"Enter card No2\"))\n",
    "a.card3()\n",
    "a.All_info()\n"
   ]
  },
  {
   "cell_type": "code",
   "execution_count": null,
   "id": "0e847343",
   "metadata": {},
   "outputs": [],
   "source": [
    "class customer:\n",
    "    def info(id,n):\n",
    "        print(\"Customer ID :\",id,\"Customer Name: \",n)\n",
    "\n",
    "class Bank(customer):\n",
    "    def bank_AC(card_type,card_number):\n",
    "        print(\"Card Type:\",card_type,\"Card Number:\",card_number)\n",
    "        \n",
    "Limit1 = 0\n",
    "class Creditc1(Bank):\n",
    "    def card1(tran1,limit1):\n",
    "        global Limit1\n",
    "        Limit1 += limit1\n",
    "        print(\"Transaction ID:\",tran1,\" Amount:\",limit1)\n",
    "\n",
    "class Bank1(Creditc1):\n",
    "    def bank_AC1(card_type1,card_number1):\n",
    "        print(\"Card Type:\",card_type1,\"Card Number:\",card_number1)\n",
    "\n",
    "class Credit_limit(Bank1):\n",
    "    def All_info():\n",
    "        print(\"Total Transaction Amount:\",Limit1)\n",
    "\n",
    "\n",
    "a = Credit_limit\n",
    "a.info(123,\"Hritik\")\n",
    "a.bank_AC(\"Visa\",880567840)\n",
    "a.card1(\"T001\",6000)\n",
    "a.bank_AC1(\"Amex\",7890456738)\n",
    "a.All_info()\n",
    "a.card1(\"T002\",2000)\n",
    "a.All_info()\n",
    "a.card1(\"T003\",7000)\n",
    "a.All_info()\n",
    "a.card1(\"T004\",55000)\n",
    "a.All_info()\n",
    "a.card1(\"T005\",6000)\n",
    "a.All_info()\n"
   ]
  },
  {
   "cell_type": "code",
   "execution_count": null,
   "id": "0f06c6a3",
   "metadata": {},
   "outputs": [],
   "source": [
    "\n",
    "class Animal():\n",
    "    def sound():\n",
    "        pass\n",
    "class dog(Animal):\n",
    "    def sound():\n",
    "        print(\"Baw Baw\")\n",
    "\n",
    "class cat(Animal):\n",
    "    def sound():\n",
    "        print(\"Meow\") \n",
    "\n",
    "\n",
    "for Animal in (dog,cat):\n",
    "    Animal.sound()\n",
    "\n",
    "    \n",
    "a = dog\n",
    "a.sound() \n",
    "b = cat\n",
    "b.sound() "
   ]
  },
  {
   "cell_type": "code",
   "execution_count": null,
   "id": "e9232a0a",
   "metadata": {},
   "outputs": [],
   "source": [
    "# Write a program to check whether a number is prime number or not.\n",
    "n = 10\n",
    "if n%n ==0 and n%1 ==0 and n%2 != 0:\n",
    "    print(\"prime\")\n",
    "else:\n",
    "    print(\"not prime\")"
   ]
  },
  {
   "cell_type": "code",
   "execution_count": null,
   "id": "b04843df",
   "metadata": {},
   "outputs": [],
   "source": [
    "# matching digit\n",
    "import re\n",
    "text = \"my number is 937-030-361-4\"\n",
    "pattern = r\"\\d+\"\n",
    "\n",
    "match1 = re.findall(pattern,text)\n",
    "print(match1)"
   ]
  },
  {
   "cell_type": "code",
   "execution_count": null,
   "id": "ef843326",
   "metadata": {},
   "outputs": [],
   "source": [
    "# replace or hide match value\n",
    "import re\n",
    "text = \"my number is 937-030-361-4\"\n",
    "pattern = r\"\\d+\"\n",
    "\n",
    "match1 = re.sub(pattern,\"a-b-c\",text)\n",
    "print(match1)"
   ]
  },
  {
   "cell_type": "code",
   "execution_count": null,
   "id": "760f3613",
   "metadata": {},
   "outputs": [],
   "source": [
    "text = \"contact : info@codewithhritik.com\"\n",
    "\n",
    "pattern = r\"(\\w+)@([\\w.]+)\"\n",
    "\n",
    "match = re.search(pattern,text)\n",
    "\n",
    "if match:\n",
    "    username = match.group(1)\n",
    "    domain = match.group(2)\n",
    "    print(f\"Username:{username}   Domain:{domain}\")"
   ]
  },
  {
   "cell_type": "code",
   "execution_count": null,
   "id": "2d9431d8",
   "metadata": {},
   "outputs": [],
   "source": [
    "text = '''atripathi27@gmail.com\n",
    "\n",
    "atulkarki1991@gmail.com\n",
    "\n",
    "bishnuroy72@gmail.com\n",
    "\n",
    "bpnkesharwani@gmail.com\n",
    "\n",
    "chimanchandra23@gmail.com\n",
    "\n",
    "daljeet.kalsi1989@gmail.com\n",
    "\n",
    "dameet6@gmail.com\n",
    "\n",
    "deepakjh69@gmail.com\n",
    "\n",
    "deepakvarma891@gmail.com\n",
    "\n",
    "deeptendra12@gmail.com\n",
    "\n",
    "deshbandhusaini51@gmail.com\n",
    "\n",
    "dhirendr091@gmail.com\n",
    "\n",
    "dpkshrm1992@gmail.com\n",
    "\n",
    "edgarjrojasl@gmail.com,\n",
    "\n",
    "eenishoda@gmail.com,\n",
    "\n",
    "electronix84@gmail.com\n",
    "\n",
    "erhakkaya@gma'''\n",
    "\n",
    "emails = re.findall(r\"[\\w+]@([\\w.]+\",text)\n",
    "\n",
    "for i in emails:\n",
    "    print(i)"
   ]
  },
  {
   "cell_type": "code",
   "execution_count": null,
   "id": "e44e9068",
   "metadata": {},
   "outputs": [],
   "source": [
    "pip install requests beautifulsoup4"
   ]
  },
  {
   "cell_type": "code",
   "execution_count": 2,
   "id": "a4b4ab61",
   "metadata": {},
   "outputs": [],
   "source": [
    "# step 1\n",
    "\n",
    "# import libraries\n",
    "import requests\n",
    "from bs4 import BeautifulSoup\n",
    "import re\n",
    "import csv"
   ]
  },
  {
   "cell_type": "code",
   "execution_count": 3,
   "id": "dfac7d98",
   "metadata": {},
   "outputs": [],
   "source": [
    "# step 2\n",
    "# https://books.toscrape.com/\n",
    "\n",
    "url = \"https://books.toscrape.com/\"\n",
    "response = requests.get(url)\n",
    "\n",
    "# check request\n",
    "\n",
    "if response.status_code !=200:\n",
    "    print(\"failed to fetch page\")\n",
    "    exit()"
   ]
  },
  {
   "cell_type": "code",
   "execution_count": 4,
   "id": "6f4ce538",
   "metadata": {},
   "outputs": [],
   "source": [
    "# step 3 parse the html\n",
    "\n",
    "soup = BeautifulSoup(response.text,\"html.parser\")"
   ]
  },
  {
   "cell_type": "code",
   "execution_count": 5,
   "id": "e416f6af",
   "metadata": {},
   "outputs": [
    {
     "name": "stdout",
     "output_type": "stream",
     "text": [
      "['A Light in the Attic', '51.77']\n",
      "['Tipping the Velvet', '53.74']\n",
      "['Soumission', '50.10']\n",
      "['Sharp Objects', '47.82']\n",
      "['Sapiens: A Brief History of Humankind', '54.23']\n",
      "['The Requiem Red', '22.65']\n",
      "['The Dirty Little Secrets of Getting Your Dream Job', '33.34']\n",
      "['The Coming Woman: A Novel Based on the Life of the Infamous Feminist, Victoria Woodhull', '17.93']\n",
      "['The Boys in the Boat: Nine Americans and Their Epic Quest for Gold at the 1936 Berlin Olympics', '22.60']\n",
      "['The Black Maria', '52.15']\n",
      "['Starving Hearts (Triangular Trade Trilogy, #1)', '13.99']\n",
      "[\"Shakespeare's Sonnets\", '20.66']\n",
      "['Set Me Free', '17.46']\n",
      "[\"Scott Pilgrim's Precious Little Life (Scott Pilgrim #1)\", '52.29']\n",
      "['Rip it Up and Start Again', '35.02']\n",
      "['Our Band Could Be Your Life: Scenes from the American Indie Underground, 1981-1991', '57.25']\n",
      "['Olio', '23.88']\n",
      "['Mesaerion: The Best Science Fiction Stories 1800-1849', '37.59']\n",
      "['Libertarianism for Beginners', '51.33']\n",
      "[\"It's Only the Himalayas\", '45.17']\n"
     ]
    }
   ],
   "source": [
    "# step 4 extract book title and price\n",
    "\n",
    "books = soup.find_all(\"article\",class_=\"product_pod\")\n",
    "\n",
    "data =[]\n",
    "\n",
    "for book in books:\n",
    "    # get book title\n",
    "    title = book.find(\"h3\").find(\"a\")[\"title\"]\n",
    "    price_text = book.find(\"p\",class_ =\"price_color\").text\n",
    "    price_match = re.search(r\"£(\\d+.\\d{2})\",price_text)\n",
    "    price = price_match.group(1) if price_match else \"N/A\"\n",
    "\n",
    "    data.append([title,price])\n",
    "\n",
    "# print(data)\n",
    "\n",
    "for book in data:\n",
    "    print(book)"
   ]
  },
  {
   "cell_type": "code",
   "execution_count": 11,
   "id": "b94d998a",
   "metadata": {},
   "outputs": [
    {
     "name": "stdout",
     "output_type": "stream",
     "text": [
      "data save done ... (y)\n"
     ]
    }
   ],
   "source": [
    "# save to csv\n",
    "\n",
    "with open(\"data_books.csv\",\"w\",newline=\"\", encoding= \"utf-8\") as file:\n",
    "    writer = csv.writer(file)\n",
    "    writer.writerow([\"Title\",\"Price (₹)\"]) # header\n",
    "    writer.writerows(data)\n",
    "\n",
    "print(\"data save done ... (y)\") "
   ]
  },
  {
   "cell_type": "code",
   "execution_count": null,
   "id": "4678cbfe",
   "metadata": {},
   "outputs": [],
   "source": []
  }
 ],
 "metadata": {
  "kernelspec": {
   "display_name": "Python 3",
   "language": "python",
   "name": "python3"
  },
  "language_info": {
   "codemirror_mode": {
    "name": "ipython",
    "version": 3
   },
   "file_extension": ".py",
   "mimetype": "text/x-python",
   "name": "python",
   "nbconvert_exporter": "python",
   "pygments_lexer": "ipython3",
   "version": "3.12.3"
  }
 },
 "nbformat": 4,
 "nbformat_minor": 5
}
